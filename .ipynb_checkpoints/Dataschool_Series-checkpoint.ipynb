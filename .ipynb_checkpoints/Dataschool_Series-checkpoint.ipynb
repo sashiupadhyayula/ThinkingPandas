{
 "cells": [
  {
   "cell_type": "code",
   "execution_count": null,
   "metadata": {
    "collapsed": true
   },
   "outputs": [],
   "source": [
    "#2. Reading tabular data into data frame object and visualizing it\n",
    "\n",
    "import pandas as pd\n",
    "\n",
    "#Defaults are: first line is header, sep is tab\n",
    "#read_table is by default tab separated, read_csv is comma separated\n",
    "\n",
    "orders_df= pd.read_table('../Datasets/chiporders.tsv')\n",
    "\n",
    "#dataframeObject.head() method will give first five rows by default. It can take argument to give more rows\n",
    "orders_df.head()\n",
    "\n",
    "#type will tell you what data type it is\n",
    "type(orders_df.head())\n",
    "\n",
    "#Mention sep character and play with header argument\n",
    "movieusers_withoutHeader_df = pd.read_table('../Datasets/movieusers', sep = '|')\n",
    "movieusers_withoutHeader_df.head(10)\n",
    "\n",
    "movieusers_withHeader_df = pd.read_table('http://bit.ly/movieusers', sep = '|', header=None)\n",
    "movieusers_withHeader_df.head(10)\n",
    "\n",
    "usr_col = ['id','age','gender','role','zipcode']\n",
    "movieusers_customHeader_df = pd.read_table('http://bit.ly/movieusers', sep = '|', header=None, names=usr_col)\n",
    "movieusers_customHeader_df.head(10)\n",
    "\n",
    "#Testing out skipfooter and skiprows\n",
    "movieusers_skiprows_df = pd.read_table('../Datasets/chiporders.tsv', header=None, skiprows=[0,1], skipfooter=1)\n",
    "movieusers_skiprows_df.tail(10)\n"
   ]
  },
  {
   "cell_type": "code",
   "execution_count": null,
   "metadata": {},
   "outputs": [],
   "source": [
    "#3. How do I select a pandas Series from DataFrame?\n",
    "#So, What is a series?\n",
    "#Pandas has two object types: Dataframe(Table of rows and columns (called pandas series)) and series. \n",
    "#Each of dataframe column is a series. Also, a series need not\n",
    "#necessarily be a part of dataframe. It can be an independant object.\n",
    "\n",
    "import pandas as pd\n",
    "\n",
    "ufo_df = pd.read_csv('Datasets/uforeports.csv')\n",
    "ufo_df.head()\n",
    "\n",
    "#selecting series\n",
    "ufo_df['City'] #or ufo_df.City\n",
    "ufo_df['Location'] = ufo_df['City'] + ', ' + ufo_df['State']\n",
    "ufo_df.head()"
   ]
  },
  {
   "cell_type": "code",
   "execution_count": 6,
   "metadata": {},
   "outputs": [
    {
     "data": {
      "text/plain": [
       "(5043, 28)"
      ]
     },
     "execution_count": 6,
     "metadata": {},
     "output_type": "execute_result"
    }
   ],
   "source": [
    "#4. Why do some pandas command end with paranthesis and others don't\n",
    "# Simple takeaway is: the one with paranthesis (methods) are actions and the one without are attributes.\n",
    "\n",
    "import pandas as pd\n",
    "\n",
    "movies = pd.read_csv('Datasets/movie_metadata.csv')\n",
    "movies.head()\n",
    "\n",
    "#As long as there is one numeric column, it will show descriptive statics. This is also an example of action.\n",
    "movies.describe()\n",
    "\n",
    "#example attributes\n",
    "movies.shape\n",
    "movies.dtypes"
   ]
  },
  {
   "cell_type": "code",
   "execution_count": null,
   "metadata": {
    "collapsed": true
   },
   "outputs": [],
   "source": [
    "#5. How do I rename columns in dataframe\n",
    "\n",
    "import pandas as pd\n",
    "\n",
    "ufo = pd.read_csv('Datasets/uforeports.csv')\n",
    "\n",
    "#.columns attribute can be called to look at all column names\n",
    "ufo.columns\n",
    "\n",
    "#Below is how columns can be changed, in multiple ways\n",
    "\n",
    "#1. To change specific column names\n",
    "ufo.rename(columns = {'Colors Reported': 'Colors_Reported', 'Shape Reported': 'Shape_Reported'}, inplace = True)\n",
    "\n",
    "#2. To change all column names is to create a python list of new column names and simply assign. \n",
    "new_col_names = ['city', 'colors reported', 'shape reported', 'state', 'time']\n",
    "ufo.columns = new_col_names\n",
    "\n",
    "\n",
    "#3. Changing column names while reading the file. Mentioning header argument is compulsory. This says that \n",
    "# the file we are reading has header in 0th row. \n",
    "ufo = pd.read_csv('Datasets/uforeports.csv', names=new_col_names, header=0)\n",
    "ufo.head()\n",
    "\n",
    "#4. Wild card option to change all column names of your choice. Ex: replace all col having spaces with underscores\n",
    "ufo.columns = ufo.columns.str.replace(' ', '_')\n",
    "ufo.columns"
   ]
  },
  {
   "cell_type": "code",
   "execution_count": null,
   "metadata": {
    "collapsed": true
   },
   "outputs": [],
   "source": [
    "#6. How do I remove columns from dataframe\n",
    "import pandas as pd\n",
    "\n",
    "ufo = pd.read_csv('Datasets/uforeports.csv')\n",
    "ufo.head()\n",
    "#shape attribute will give number of rows and columns as tuple for that dataframe\n",
    "\n",
    "#Delete a column (or a row) by mentioning \"axis\" using drop method. for rows use axis 0 and axis 1 for columns\n",
    "ufo.drop('City', axis=1, inplace=True)\n",
    "\n",
    "#Multiple columns can be dropped by passing list\n",
    "ufo.drop(['Colors Reported', 'State'], axis=1, inplace=True)\n",
    "\n",
    "#To delete rows, use names of rows (called index or labels) with axis=0. NOTE: axis=0 is default\n",
    "ufo.drop([0,1], axis=0, inplace=True)\n"
   ]
  },
  {
   "cell_type": "code",
   "execution_count": null,
   "metadata": {
    "collapsed": true
   },
   "outputs": [],
   "source": [
    "#7. How do I sort pandas dataframe or series\n",
    "import pandas as pd\n",
    "\n",
    "movies = pd.read_csv('Datasets/imdbratings.csv')\n",
    "\n",
    "#New way to start: In version 0.17 or later\n",
    "movies.title.sort_values()#ascending is by default. You can use bracket notation as well.\n",
    "\n",
    "#Since we did not say \"inplace\", movies.title will give you the unsorted result\n",
    "movies.title\n",
    "\n",
    "#Sorting dataframe by a particular column and still displaying the whole data frame\n",
    "movies.sort_values('title')\n"
   ]
  },
  {
   "cell_type": "code",
   "execution_count": null,
   "metadata": {},
   "outputs": [],
   "source": [
    "#8. How do I filter rows of df by column value. Basically a where clause in sql analogy\n",
    "\n",
    "import pandas as pd\n",
    "\n",
    "movies = pd.read_csv('Datasets/imdbratings.csv')\n",
    "\n",
    "#What we want: Filter all rows from df where \"duration\" (series/column) >= 200\n",
    "\n",
    "#How we do it:\n",
    "movies[movies.duration >= 200]\n",
    "#de-cipher'ing the above code\n",
    "#movies.duaration will internally run a for loop on all rows and generate a pandas series\n",
    "# of True or False for the condtion (in this case >= 200). This boolean is applied on the df\n",
    "# to filter out the rows.\n",
    "\n",
    "#Bonus tip: How to select few columns matching the where condition\n",
    "movies.loc[movies.duration >= 200, ['title', 'genre', 'duration']]"
   ]
  },
  {
   "cell_type": "code",
   "execution_count": null,
   "metadata": {
    "collapsed": true
   },
   "outputs": [],
   "source": [
    "#9. How to apply multiple filter criteria to pandas df. Basically multiple where conditions\n",
    "\n",
    "import pandas as pd\n",
    "\n",
    "movies = pd.read_csv('Datasets/imdbratings.csv')\n",
    "\n",
    "movies[(movies.duration >= 200) & (movies.genre.isin == 'Drama')]#single pipe for \"OR\"\n",
    "\n",
    "#another flavor is selecting multiple genre.\n",
    "movies[movies.genre.isin(['Crime','Drama'])]\n",
    "\n",
    "#another variation\n",
    "movies[(movies.duration >= 200) & (movies.genre.isin(['Crime','Drama']))]"
   ]
  },
  {
   "cell_type": "code",
   "execution_count": null,
   "metadata": {
    "collapsed": true
   },
   "outputs": [],
   "source": [
    "#10. Answering multiple questions\n",
    "\n",
    "import pandas as pd, numpy as np\n",
    "#Q1: What about reading csv file with specific columns\n",
    "#Ans: You will specify column names or columns position\n",
    "ufo = pd.read_csv('Datasets/uforeports.csv', usecols=['City', 'Time'])\n",
    "\n",
    "#Q2: Fastest way to read csv file. \n",
    "#Ans: No exact way to say, but nrows will give a first n rows of a big dataset to take a look\n",
    "ufo = pd.read_csv('Datasets/uforeports.csv', nrows = 5)\n",
    "\n",
    "\n",
    "#Q3: how to iterate through df and series\n",
    "#Ans: Iterating through series is same as in python\n",
    "ufo = pd.read_csv('Datasets/uforeports.csv')\n",
    "ufo.head\n",
    "#iterate series\n",
    "for c in ufo.City:\n",
    "   print(c)\n",
    "\n",
    "#iterate df\n",
    "for i,row in ufo.iterrows():\n",
    "    print(i,row.City, row.Time)\n",
    "    \n",
    "#Q4: Drop every non-numeric column in a dataframe\n",
    "#Ans:\n",
    "drinks = pd.read_csv('Datasets/drinksbycountry.csv')\n",
    "drinks.select_dtypes(include=[np.number])"
   ]
  },
  {
   "cell_type": "code",
   "execution_count": null,
   "metadata": {
    "collapsed": true
   },
   "outputs": [],
   "source": [
    "#11. How to use axis parameter in pandas. \n",
    "# Synopsis: axis = 0 or 'index' represent rows\n",
    "#           axis = 1 or 'columns' represnt columns\n",
    "\n",
    "import pandas as pd\n",
    "\n",
    "drinks = pd.read_csv('Datasets/drinksbycountry.csv')\n",
    "\n",
    "drinks.head()\n",
    "\n",
    "drinks.drop('continent', axis=1).head()\n",
    "\n"
   ]
  },
  {
   "cell_type": "code",
   "execution_count": 18,
   "metadata": {},
   "outputs": [
    {
     "data": {
      "text/html": [
       "<div>\n",
       "<style>\n",
       "    .dataframe thead tr:only-child th {\n",
       "        text-align: right;\n",
       "    }\n",
       "\n",
       "    .dataframe thead th {\n",
       "        text-align: left;\n",
       "    }\n",
       "\n",
       "    .dataframe tbody tr th {\n",
       "        vertical-align: top;\n",
       "    }\n",
       "</style>\n",
       "<table border=\"1\" class=\"dataframe\">\n",
       "  <thead>\n",
       "    <tr style=\"text-align: right;\">\n",
       "      <th></th>\n",
       "      <th>order_id</th>\n",
       "      <th>quantity</th>\n",
       "      <th>item_name</th>\n",
       "      <th>choice_description</th>\n",
       "      <th>item_price</th>\n",
       "    </tr>\n",
       "  </thead>\n",
       "  <tbody>\n",
       "    <tr>\n",
       "      <th>0</th>\n",
       "      <td>1</td>\n",
       "      <td>1.0</td>\n",
       "      <td>Chips and Fresh Tomato Salsa</td>\n",
       "      <td>NaN</td>\n",
       "      <td>$2.39</td>\n",
       "    </tr>\n",
       "    <tr>\n",
       "      <th>1</th>\n",
       "      <td>1</td>\n",
       "      <td>1.0</td>\n",
       "      <td>Izze</td>\n",
       "      <td>[Clementine]</td>\n",
       "      <td>$3.39</td>\n",
       "    </tr>\n",
       "    <tr>\n",
       "      <th>2</th>\n",
       "      <td>1</td>\n",
       "      <td>1.0</td>\n",
       "      <td>Nantucket Nectar</td>\n",
       "      <td>[Apple]</td>\n",
       "      <td>$3.39</td>\n",
       "    </tr>\n",
       "    <tr>\n",
       "      <th>3</th>\n",
       "      <td>1</td>\n",
       "      <td>1.0</td>\n",
       "      <td>Chips and Tomatillo-Green Chili Salsa</td>\n",
       "      <td>NaN</td>\n",
       "      <td>$2.39</td>\n",
       "    </tr>\n",
       "    <tr>\n",
       "      <th>4</th>\n",
       "      <td>2</td>\n",
       "      <td>2.0</td>\n",
       "      <td>Chicken Bowl</td>\n",
       "      <td>[Tomatillo-Red Chili Salsa (Hot), [Black Beans...</td>\n",
       "      <td>$16.98</td>\n",
       "    </tr>\n",
       "  </tbody>\n",
       "</table>\n",
       "</div>"
      ],
      "text/plain": [
       "  order_id  quantity                              item_name  \\\n",
       "0        1       1.0           Chips and Fresh Tomato Salsa   \n",
       "1        1       1.0                                   Izze   \n",
       "2        1       1.0                       Nantucket Nectar   \n",
       "3        1       1.0  Chips and Tomatillo-Green Chili Salsa   \n",
       "4        2       2.0                           Chicken Bowl   \n",
       "\n",
       "                                  choice_description item_price  \n",
       "0                                                NaN     $2.39   \n",
       "1                                       [Clementine]     $3.39   \n",
       "2                                            [Apple]     $3.39   \n",
       "3                                                NaN     $2.39   \n",
       "4  [Tomatillo-Red Chili Salsa (Hot), [Black Beans...    $16.98   "
      ]
     },
     "execution_count": 18,
     "metadata": {},
     "output_type": "execute_result"
    }
   ],
   "source": [
    "#12 How to use string methods in pandas\n",
    "\n",
    "import pandas as pd\n",
    "\n",
    "orders = pd.read_table('Datasets/chiporders.tsv')\n",
    "\n",
    "#upper on a series \n",
    "orders.item_name.str.upper()\n",
    "\n",
    "#contains\n",
    "orders.item_name.str.contains('Chicken')\n",
    "\n",
    "#Look into API for ton of other string methods\n",
    "\n",
    "#String chaining\n",
    "orders.choice_description.str.replace('[', '')\n",
    "orders.choice_description.str.replace('[', '').str.replace(']', '')\n",
    "\n",
    "#Using regex, writing above code.\n",
    "orders.choice_description.str.replace('[\\[\\]]', '')\n",
    "orders.head()\n"
   ]
  },
  {
   "cell_type": "code",
   "execution_count": null,
   "metadata": {
    "collapsed": true
   },
   "outputs": [],
   "source": [
    "#13. How to change data type of a series\n",
    "\n",
    "import pandas as pd\n",
    "\n",
    "drinks = pd.read_csv('Datasets/drinksbycountry.csv')\n",
    "drinks.dtypes\n",
    "\n",
    "#convert beer_servings to float type. One common usecase is to perform math operations\n",
    "#on column which is string type. We need to first convert it to int/float while reading into pandas.\n",
    "drinks['beer_servings'] = drinks.beer_servings.astype(float)\n",
    "drinks.dtypes\n",
    "\n",
    "#To convert during the reading process of dataframe, use below syntax\n",
    "drinks = pd.read_csv('Datasets/drinksbycountry.csv', dtype={'beer_servings': float})\n",
    "drinks.dtypes"
   ]
  },
  {
   "cell_type": "code",
   "execution_count": 24,
   "metadata": {},
   "outputs": [
    {
     "ename": "ImportError",
     "evalue": "No module named 'matplotlib'",
     "output_type": "error",
     "traceback": [
      "\u001b[1;31m---------------------------------------------------------------------------\u001b[0m",
      "\u001b[1;31mImportError\u001b[0m                               Traceback (most recent call last)",
      "\u001b[1;32m<ipython-input-24-d0f35f4d024c>\u001b[0m in \u001b[0;36m<module>\u001b[1;34m()\u001b[0m\n\u001b[0;32m     14\u001b[0m \u001b[1;33m\u001b[0m\u001b[0m\n\u001b[0;32m     15\u001b[0m \u001b[1;31m#in ipython notebook plotting can be done using below command\u001b[0m\u001b[1;33m\u001b[0m\u001b[1;33m\u001b[0m\u001b[0m\n\u001b[1;32m---> 16\u001b[1;33m \u001b[0mget_ipython\u001b[0m\u001b[1;33m(\u001b[0m\u001b[1;33m)\u001b[0m\u001b[1;33m.\u001b[0m\u001b[0mmagic\u001b[0m\u001b[1;33m(\u001b[0m\u001b[1;34m'matplotlib inline'\u001b[0m\u001b[1;33m)\u001b[0m\u001b[1;33m\u001b[0m\u001b[0m\n\u001b[0m\u001b[0;32m     17\u001b[0m \u001b[0mdrinks\u001b[0m\u001b[1;33m.\u001b[0m\u001b[0mgroupby\u001b[0m\u001b[1;33m(\u001b[0m\u001b[1;34m'continent'\u001b[0m\u001b[1;33m)\u001b[0m\u001b[1;33m.\u001b[0m\u001b[0mmean\u001b[0m\u001b[1;33m(\u001b[0m\u001b[1;33m)\u001b[0m\u001b[1;33m\u001b[0m\u001b[0m\n",
      "\u001b[1;32mc:\\python35\\lib\\site-packages\\IPython\\core\\interactiveshell.py\u001b[0m in \u001b[0;36mmagic\u001b[1;34m(self, arg_s)\u001b[0m\n\u001b[0;32m   2128\u001b[0m         \u001b[0mmagic_name\u001b[0m\u001b[1;33m,\u001b[0m \u001b[0m_\u001b[0m\u001b[1;33m,\u001b[0m \u001b[0mmagic_arg_s\u001b[0m \u001b[1;33m=\u001b[0m \u001b[0marg_s\u001b[0m\u001b[1;33m.\u001b[0m\u001b[0mpartition\u001b[0m\u001b[1;33m(\u001b[0m\u001b[1;34m' '\u001b[0m\u001b[1;33m)\u001b[0m\u001b[1;33m\u001b[0m\u001b[0m\n\u001b[0;32m   2129\u001b[0m         \u001b[0mmagic_name\u001b[0m \u001b[1;33m=\u001b[0m \u001b[0mmagic_name\u001b[0m\u001b[1;33m.\u001b[0m\u001b[0mlstrip\u001b[0m\u001b[1;33m(\u001b[0m\u001b[0mprefilter\u001b[0m\u001b[1;33m.\u001b[0m\u001b[0mESC_MAGIC\u001b[0m\u001b[1;33m)\u001b[0m\u001b[1;33m\u001b[0m\u001b[0m\n\u001b[1;32m-> 2130\u001b[1;33m         \u001b[1;32mreturn\u001b[0m \u001b[0mself\u001b[0m\u001b[1;33m.\u001b[0m\u001b[0mrun_line_magic\u001b[0m\u001b[1;33m(\u001b[0m\u001b[0mmagic_name\u001b[0m\u001b[1;33m,\u001b[0m \u001b[0mmagic_arg_s\u001b[0m\u001b[1;33m)\u001b[0m\u001b[1;33m\u001b[0m\u001b[0m\n\u001b[0m\u001b[0;32m   2131\u001b[0m \u001b[1;33m\u001b[0m\u001b[0m\n\u001b[0;32m   2132\u001b[0m     \u001b[1;31m#-------------------------------------------------------------------------\u001b[0m\u001b[1;33m\u001b[0m\u001b[1;33m\u001b[0m\u001b[0m\n",
      "\u001b[1;32mc:\\python35\\lib\\site-packages\\IPython\\core\\interactiveshell.py\u001b[0m in \u001b[0;36mrun_line_magic\u001b[1;34m(self, magic_name, line)\u001b[0m\n\u001b[0;32m   2049\u001b[0m                 \u001b[0mkwargs\u001b[0m\u001b[1;33m[\u001b[0m\u001b[1;34m'local_ns'\u001b[0m\u001b[1;33m]\u001b[0m \u001b[1;33m=\u001b[0m \u001b[0msys\u001b[0m\u001b[1;33m.\u001b[0m\u001b[0m_getframe\u001b[0m\u001b[1;33m(\u001b[0m\u001b[0mstack_depth\u001b[0m\u001b[1;33m)\u001b[0m\u001b[1;33m.\u001b[0m\u001b[0mf_locals\u001b[0m\u001b[1;33m\u001b[0m\u001b[0m\n\u001b[0;32m   2050\u001b[0m             \u001b[1;32mwith\u001b[0m \u001b[0mself\u001b[0m\u001b[1;33m.\u001b[0m\u001b[0mbuiltin_trap\u001b[0m\u001b[1;33m:\u001b[0m\u001b[1;33m\u001b[0m\u001b[0m\n\u001b[1;32m-> 2051\u001b[1;33m                 \u001b[0mresult\u001b[0m \u001b[1;33m=\u001b[0m \u001b[0mfn\u001b[0m\u001b[1;33m(\u001b[0m\u001b[1;33m*\u001b[0m\u001b[0margs\u001b[0m\u001b[1;33m,\u001b[0m\u001b[1;33m**\u001b[0m\u001b[0mkwargs\u001b[0m\u001b[1;33m)\u001b[0m\u001b[1;33m\u001b[0m\u001b[0m\n\u001b[0m\u001b[0;32m   2052\u001b[0m             \u001b[1;32mreturn\u001b[0m \u001b[0mresult\u001b[0m\u001b[1;33m\u001b[0m\u001b[0m\n\u001b[0;32m   2053\u001b[0m \u001b[1;33m\u001b[0m\u001b[0m\n",
      "\u001b[1;32m<decorator-gen-106>\u001b[0m in \u001b[0;36mmatplotlib\u001b[1;34m(self, line)\u001b[0m\n",
      "\u001b[1;32mc:\\python35\\lib\\site-packages\\IPython\\core\\magic.py\u001b[0m in \u001b[0;36m<lambda>\u001b[1;34m(f, *a, **k)\u001b[0m\n\u001b[0;32m    186\u001b[0m     \u001b[1;31m# but it's overkill for just that one bit of state.\u001b[0m\u001b[1;33m\u001b[0m\u001b[1;33m\u001b[0m\u001b[0m\n\u001b[0;32m    187\u001b[0m     \u001b[1;32mdef\u001b[0m \u001b[0mmagic_deco\u001b[0m\u001b[1;33m(\u001b[0m\u001b[0marg\u001b[0m\u001b[1;33m)\u001b[0m\u001b[1;33m:\u001b[0m\u001b[1;33m\u001b[0m\u001b[0m\n\u001b[1;32m--> 188\u001b[1;33m         \u001b[0mcall\u001b[0m \u001b[1;33m=\u001b[0m \u001b[1;32mlambda\u001b[0m \u001b[0mf\u001b[0m\u001b[1;33m,\u001b[0m \u001b[1;33m*\u001b[0m\u001b[0ma\u001b[0m\u001b[1;33m,\u001b[0m \u001b[1;33m**\u001b[0m\u001b[0mk\u001b[0m\u001b[1;33m:\u001b[0m \u001b[0mf\u001b[0m\u001b[1;33m(\u001b[0m\u001b[1;33m*\u001b[0m\u001b[0ma\u001b[0m\u001b[1;33m,\u001b[0m \u001b[1;33m**\u001b[0m\u001b[0mk\u001b[0m\u001b[1;33m)\u001b[0m\u001b[1;33m\u001b[0m\u001b[0m\n\u001b[0m\u001b[0;32m    189\u001b[0m \u001b[1;33m\u001b[0m\u001b[0m\n\u001b[0;32m    190\u001b[0m         \u001b[1;32mif\u001b[0m \u001b[0mcallable\u001b[0m\u001b[1;33m(\u001b[0m\u001b[0marg\u001b[0m\u001b[1;33m)\u001b[0m\u001b[1;33m:\u001b[0m\u001b[1;33m\u001b[0m\u001b[0m\n",
      "\u001b[1;32mc:\\python35\\lib\\site-packages\\IPython\\core\\magics\\pylab.py\u001b[0m in \u001b[0;36mmatplotlib\u001b[1;34m(self, line)\u001b[0m\n\u001b[0;32m     97\u001b[0m             \u001b[0mprint\u001b[0m\u001b[1;33m(\u001b[0m\u001b[1;34m\"Available matplotlib backends: %s\"\u001b[0m \u001b[1;33m%\u001b[0m \u001b[0mbackends_list\u001b[0m\u001b[1;33m)\u001b[0m\u001b[1;33m\u001b[0m\u001b[0m\n\u001b[0;32m     98\u001b[0m         \u001b[1;32melse\u001b[0m\u001b[1;33m:\u001b[0m\u001b[1;33m\u001b[0m\u001b[0m\n\u001b[1;32m---> 99\u001b[1;33m             \u001b[0mgui\u001b[0m\u001b[1;33m,\u001b[0m \u001b[0mbackend\u001b[0m \u001b[1;33m=\u001b[0m \u001b[0mself\u001b[0m\u001b[1;33m.\u001b[0m\u001b[0mshell\u001b[0m\u001b[1;33m.\u001b[0m\u001b[0menable_matplotlib\u001b[0m\u001b[1;33m(\u001b[0m\u001b[0margs\u001b[0m\u001b[1;33m.\u001b[0m\u001b[0mgui\u001b[0m\u001b[1;33m)\u001b[0m\u001b[1;33m\u001b[0m\u001b[0m\n\u001b[0m\u001b[0;32m    100\u001b[0m             \u001b[0mself\u001b[0m\u001b[1;33m.\u001b[0m\u001b[0m_show_matplotlib_backend\u001b[0m\u001b[1;33m(\u001b[0m\u001b[0margs\u001b[0m\u001b[1;33m.\u001b[0m\u001b[0mgui\u001b[0m\u001b[1;33m,\u001b[0m \u001b[0mbackend\u001b[0m\u001b[1;33m)\u001b[0m\u001b[1;33m\u001b[0m\u001b[0m\n\u001b[0;32m    101\u001b[0m \u001b[1;33m\u001b[0m\u001b[0m\n",
      "\u001b[1;32mc:\\python35\\lib\\site-packages\\IPython\\core\\interactiveshell.py\u001b[0m in \u001b[0;36menable_matplotlib\u001b[1;34m(self, gui)\u001b[0m\n\u001b[0;32m   2901\u001b[0m         \"\"\"\n\u001b[0;32m   2902\u001b[0m         \u001b[1;32mfrom\u001b[0m \u001b[0mIPython\u001b[0m\u001b[1;33m.\u001b[0m\u001b[0mcore\u001b[0m \u001b[1;32mimport\u001b[0m \u001b[0mpylabtools\u001b[0m \u001b[1;32mas\u001b[0m \u001b[0mpt\u001b[0m\u001b[1;33m\u001b[0m\u001b[0m\n\u001b[1;32m-> 2903\u001b[1;33m         \u001b[0mgui\u001b[0m\u001b[1;33m,\u001b[0m \u001b[0mbackend\u001b[0m \u001b[1;33m=\u001b[0m \u001b[0mpt\u001b[0m\u001b[1;33m.\u001b[0m\u001b[0mfind_gui_and_backend\u001b[0m\u001b[1;33m(\u001b[0m\u001b[0mgui\u001b[0m\u001b[1;33m,\u001b[0m \u001b[0mself\u001b[0m\u001b[1;33m.\u001b[0m\u001b[0mpylab_gui_select\u001b[0m\u001b[1;33m)\u001b[0m\u001b[1;33m\u001b[0m\u001b[0m\n\u001b[0m\u001b[0;32m   2904\u001b[0m \u001b[1;33m\u001b[0m\u001b[0m\n\u001b[0;32m   2905\u001b[0m         \u001b[1;32mif\u001b[0m \u001b[0mgui\u001b[0m \u001b[1;33m!=\u001b[0m \u001b[1;34m'inline'\u001b[0m\u001b[1;33m:\u001b[0m\u001b[1;33m\u001b[0m\u001b[0m\n",
      "\u001b[1;32mc:\\python35\\lib\\site-packages\\IPython\\core\\pylabtools.py\u001b[0m in \u001b[0;36mfind_gui_and_backend\u001b[1;34m(gui, gui_select)\u001b[0m\n\u001b[0;32m    269\u001b[0m     \"\"\"\n\u001b[0;32m    270\u001b[0m \u001b[1;33m\u001b[0m\u001b[0m\n\u001b[1;32m--> 271\u001b[1;33m     \u001b[1;32mimport\u001b[0m \u001b[0mmatplotlib\u001b[0m\u001b[1;33m\u001b[0m\u001b[0m\n\u001b[0m\u001b[0;32m    272\u001b[0m \u001b[1;33m\u001b[0m\u001b[0m\n\u001b[0;32m    273\u001b[0m     \u001b[1;32mif\u001b[0m \u001b[0mgui\u001b[0m \u001b[1;32mand\u001b[0m \u001b[0mgui\u001b[0m \u001b[1;33m!=\u001b[0m \u001b[1;34m'auto'\u001b[0m\u001b[1;33m:\u001b[0m\u001b[1;33m\u001b[0m\u001b[0m\n",
      "\u001b[1;31mImportError\u001b[0m: No module named 'matplotlib'"
     ]
    }
   ],
   "source": [
    "#14. When to use groupby in pandas\n",
    "\n",
    "import pandas as pd, numpy as n\n",
    "\n",
    "drinks = pd.read_csv('Datasets/drinksbycountry.csv')\n",
    "\n",
    "drinks.groupby('continent').beer_servings.mean()\n",
    "\n",
    "#the above statement is equal to \n",
    "drinks[drinks.continent == 'Africa'].beer_servings.mean()\n",
    "\n",
    "#multiple math functions can be performed \"For Each type\" by using \"agg\" function\n",
    "drinks.groupby('continent').beer_servings.agg(['count', 'min','max','mean','median'])\n",
    "\n",
    "#in ipython notebook plotting can be done using below command\n",
    "%matplotlib inline\n",
    "\n",
    "drinks.groupby('continent').mean().plot(kind='bar')"
   ]
  }
 ],
 "metadata": {
  "kernelspec": {
   "display_name": "Python 3",
   "language": "python",
   "name": "python3"
  },
  "language_info": {
   "codemirror_mode": {
    "name": "ipython",
    "version": 3
   },
   "file_extension": ".py",
   "mimetype": "text/x-python",
   "name": "python",
   "nbconvert_exporter": "python",
   "pygments_lexer": "ipython3",
   "version": "3.5.2"
  }
 },
 "nbformat": 4,
 "nbformat_minor": 2
}
