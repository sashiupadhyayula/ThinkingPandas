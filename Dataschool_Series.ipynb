{
 "cells": [
  {
   "cell_type": "code",
   "execution_count": null,
   "metadata": {},
   "outputs": [],
   "source": [
    "#2. Reading tabular data into data frame object and visualizing it\n",
    "\n",
    "import pandas as pd\n",
    "\n",
    "#Defaults are: first line is header, sep is tab\n",
    "orders_df= pd.read_table('http://bit.ly/chiporders')\n",
    "\n",
    "#dataframeObject.head() method will give first five rows by default. It can take argument to give more rows\n",
    "orders_df.head()\n",
    "\n",
    "#Mention sep character and play with header argument\n",
    "movieusers_withoutHeader_df = pd.read_table('http://bit.ly/movieusers', sep = '|')\n",
    "movieusers_withoutHeader_df.head(10)\n",
    "\n",
    "movieusers_withHeader_df = pd.read_table('http://bit.ly/movieusers', sep = '|', header=None)\n",
    "movieusers_withHeader_df.head(10)\n",
    "\n",
    "usr_col = ['id','age','gender','role','zipcode']\n",
    "movieusers_customHeader_df = pd.read_table('http://bit.ly/movieusers', sep = '|', header=None, names=usr_col)\n",
    "movieusers_customHeader_df.head(10)\n",
    "\n",
    "#Testing out skipfooter and skiprows\n",
    "movieusers_skiprows_df = pd.read_table('../Datasets/chiporders.tsv', header=None, skiprows=[0,1], skipfooter=1)\n",
    "movieusers_skiprows_df.tail(10)\n"
   ]
  },
  {
   "cell_type": "code",
   "execution_count": null,
   "metadata": {},
   "outputs": [],
   "source": [
    "#3. How do I select a pandas Series from DataFrame?\n",
    "#So, What is a series?\n",
    "#Pandas has two object types: Dataframe(Table of rows and columns (called pandas series)) and series. \n",
    "#Each of dataframe column is a series. Also, a series need not\n",
    "#necessarily be a part of dataframe. It can be an independant object.\n",
    "\n",
    "import pandas as pd\n",
    "\n",
    "ufo_df = pd.read_csv('../Datasets/uforeports.csv')\n",
    "ufo_df.head()\n",
    "\n",
    "#selecting series\n",
    "ufo_df['City'] #or ufo_df.City\n",
    "ufo_df['Location'] = ufo_df['City'] + ', ' + ufo_df['State']\n",
    "ufo_df.head()"
   ]
  },
  {
   "cell_type": "code",
   "execution_count": null,
   "metadata": {},
   "outputs": [],
   "source": [
    "#4. Why do some pandas command end with paranthesis and others don't\n",
    "# Simple takeaway is: the one with paranthesis (methods) are actions and the one without are attributes.\n",
    "\n",
    "import pandas as pd\n",
    "\n",
    "movies = pd.read_csv('../Datasets/movie_metadata.csv')\n",
    "movies.head()\n",
    "\n",
    "#As long as there is one numeric column, it will show descriptive statics. This is also an example of action.\n",
    "movies.describe()\n",
    "\n",
    "#example attributes\n",
    "movies.shape\n",
    "movies.dtypes"
   ]
  },
  {
   "cell_type": "code",
   "execution_count": null,
   "metadata": {},
   "outputs": [],
   "source": [
    "#5. How do I rename columns in dataframe\n",
    "\n",
    "import pandas as pd\n",
    "\n",
    "ufo = pd.read_csv('../Datasets/uforeports.csv')\n",
    "\n",
    "#.columns attribute can be called to look at all column names\n",
    "ufo.columns\n",
    "\n",
    "#Below is how columns can be changed, in multiple ways\n",
    "\n",
    "#1. To change specific column names\n",
    "ufo.rename(columns = {'Colors Reported': 'Colors_Reported', 'Shape Reported': 'Shape_Reported'}, inplace = True)\n",
    "\n",
    "#2. To change all column names is to create a python list of new column names and simply assign. \n",
    "new_col_names = ['city', 'colors reported', 'shape reported', 'state', 'time']\n",
    "ufo.columns = new_col_names\n",
    "\n",
    "\n",
    "#3. Changing column names while reading the file. Mentioning header argument is compulsory. This says that \n",
    "# the file we are reading has header in 0th row. \n",
    "ufo = pd.read_csv('../Datasets/uforeports.csv', names=new_col_names, header=0)\n",
    "ufo.head()\n",
    "\n",
    "#4. Wild card option to change all column names of your choice. Ex: replace all col having spaces with underscores\n",
    "ufo.columns = ufo.columns.str.replace(' ', '_')\n",
    "ufo.columns"
   ]
  },
  {
   "cell_type": "code",
   "execution_count": null,
   "metadata": {},
   "outputs": [],
   "source": [
    "#6. How do I remove columns from dataframe\n",
    "import pandas as pd\n",
    "\n",
    "ufo = pd.read_csv('../Datasets/uforeports.csv')\n",
    "ufo.head()\n",
    "#shape attribute will give number of rows and columns as tuple for that dataframe\n",
    "\n",
    "#Delete a column (or a row) by mentioning \"axis\" using drop method. for rows use axis 0 and axis 1 for columns\n",
    "ufo.drop('City', axis=1, inplace=True)\n",
    "\n",
    "#Multiple columns can be dropped by passing list\n",
    "ufo.drop(['Colors Reported', 'State'], axis=1, inplace=True)\n",
    "\n",
    "#To delete rows, use names of rows (called index or labels) with axis=0. NOTE: axis=0 is default\n",
    "ufo.drop([0,1], axis=0, inplace=True)\n"
   ]
  },
  {
   "cell_type": "code",
   "execution_count": 7,
   "metadata": {},
   "outputs": [
    {
     "data": {
      "text/plain": [
       "Index(['City', 'Colors Reported', 'Shape Reported', 'State', 'Time'], dtype='object')"
      ]
     },
     "execution_count": 7,
     "metadata": {},
     "output_type": "execute_result"
    }
   ],
   "source": [
    "#7. How do I sort pandas dataframe or series\n",
    "import pandas as pd\n",
    "\n",
    "ufo = pd.read_csv('../Datasets/uforeports.csv')\n",
    "\n",
    "ufo.columns"
   ]
  }
 ],
 "metadata": {
  "kernelspec": {
   "display_name": "Python 3",
   "language": "python",
   "name": "python3"
  },
  "language_info": {
   "codemirror_mode": {
    "name": "ipython",
    "version": 3
   },
   "file_extension": ".py",
   "mimetype": "text/x-python",
   "name": "python",
   "nbconvert_exporter": "python",
   "pygments_lexer": "ipython3",
   "version": "3.6.1"
  }
 },
 "nbformat": 4,
 "nbformat_minor": 2
}
